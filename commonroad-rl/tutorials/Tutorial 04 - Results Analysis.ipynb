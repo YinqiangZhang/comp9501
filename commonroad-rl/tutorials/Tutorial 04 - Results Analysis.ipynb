{
 "cells": [
  {
   "cell_type": "markdown",
   "metadata": {},
   "source": [
    "# Tutorial 04 - Results Generating\n",
    "Having performed some learning processes, this tutorial explains how to apply available tools in the CommonRoad-RL package to demonstrate results. These include\n",
    "* how to plot learning curves of rewards and other information\n",
    "* how to render a trained model in various scenarios over entire episodes\n",
    "* how to generate a CommonRoad solution for system submission"
   ]
  },
  {
   "cell_type": "markdown",
   "metadata": {},
   "source": [
    "## 0. Preparation\n",
    "\n",
    "Please check the followings:\n",
    "* current path is at the project root `commonroad-rl`, i.e. one upper layer to the `tutorials` folder\n",
    "* interactive python kernel is triggered from the correct environment\n",
    "\n",
    "In addition, please make sure the following files exist:  \n",
    "* a processed data directory at `tutorials/data/highD/pickles`\n",
    "* a trained model at `tutorials/logs/best_model.zip`\n",
    "* a saved environment wrapper `tutorials/logs/vecnormalize.pkl`\n",
    "* a monitored information file `tutorials/logs/infos.monitor.csv`\n",
    "* a recorded evaluation file `tutorials/logs/evaluations.npz`\n",
    "\n",
    "Otherwise, see **Tutorial 01 - Data Preprocessing**, **Tutorial 02 - Vanilla Learning** and **Tutorial 03 - Continual Learning**."
   ]
  },
  {
   "cell_type": "code",
   "execution_count": null,
   "metadata": {},
   "outputs": [],
   "source": [
    "# Check current path\n",
    "%cd ..\n",
    "%pwd\n",
    "\n",
    "# Check interactive python kernel\n",
    "import sys\n",
    "sys.executable"
   ]
  },
  {
   "cell_type": "markdown",
   "metadata": {},
   "source": [
    "## 1. Plot learning curves\n",
    "A learning process is usually recorded with information such as reward values and terminating conditions, resulting in a `.monitor.csv` file. In out case, we have `tutorials/logs/infos.monitor.csv` and `tutorials/logs/test/infos.monitor.csv`.\n",
    " \n",
    "After a learning process is finished, we need to check the convergence of the model. Simply use `commonroad_rl/plot_results_stable_baselines.py` to plot out the learning curves from the recorded data. "
   ]
  },
  {
   "cell_type": "code",
   "execution_count": null,
   "metadata": {},
   "outputs": [],
   "source": [
    "!python -m commonroad_rl.plot_results_stable_baselines \\\n",
    "          --log-folder tutorials/logs \\\n",
    "          --model_path . \\\n",
    "          --legend_name ppo2"
   ]
  },
  {
   "cell_type": "markdown",
   "metadata": {},
   "source": [
    "## 2. Render the best model\n",
    "\n",
    "To see the learned behavior of the ego vehicle in a scenario, we apply `commonroad_rl/play_stable_baselines.py`, which in turn employs the rendering function defined in `commonroad_rl/gym_commonroad/commonroad_env.py`. As an example, we do this by calling this file with a terminal command, using our result from **Tutorial 03 - Continual Learning**."
   ]
  },
  {
   "cell_type": "code",
   "execution_count": null,
   "metadata": {},
   "outputs": [],
   "source": [
    "# Call python script to render a trained model in a scenario\n",
    "!python -m commonroad_rl.play_stable_baselines \\\n",
    "          --algo ppo2 \\\n",
    "          --model_path tutorials/logs \\\n",
    "          --test_path tutorials/data/highD/pickles \\\n",
    "          --viz_path tutorials/imgs"
   ]
  },
  {
   "cell_type": "markdown",
   "metadata": {},
   "source": [
    "As seen from the output messages, the model is verified by various scenarios in the `tutorials/data/highD/pickles` directory and there should be rendered images under `tutorials/imgs` now."
   ]
  },
  {
   "cell_type": "markdown",
   "metadata": {},
   "source": [
    "## 3. Generate a CommonRoad solution\n",
    "Similarly, `commonroad_rl/solve_stable_baselines.py` helps generate CommonRoad solutions from successful trained models. For example, we run the following command. "
   ]
  },
  {
   "cell_type": "code",
   "execution_count": null,
   "metadata": {},
   "outputs": [],
   "source": [
    "!python -m commonroad_rl.solve_stable_baselines \\\n",
    "          --algo ppo2 \\\n",
    "          --model_path tutorials/logs \\\n",
    "          --test_path tutorials/data/highD/pickles \\\n",
    "          --solution_path tutorials/sols"
   ]
  },
  {
   "cell_type": "markdown",
   "metadata": {},
   "source": [
    "Again the model is run with the testing scenarios, yet there are no actual solutions being generated under `tutorials/sols` because the goal is not reached in any cases. If a powerful model is obtained, calling the Python file shall generate CommonRoad solutions for all goal-reaching scenarios. Then you can upload your solutions to the [CommonRoad website](https://commonroad.in.tum.de/) to compete with motion planner researchers all over the world!"
   ]
  },
  {
   "cell_type": "markdown",
   "metadata": {},
   "source": []
  }
 ],
 "metadata": {
  "@webio": {
   "lastCommId": null,
   "lastKernelId": null
  },
  "kernelspec": {
   "display_name": "cr2020",
   "language": "python",
   "name": "cr2020"
  },
  "language_info": {
   "codemirror_mode": {
    "name": "ipython",
    "version": 3
   },
   "file_extension": ".py",
   "mimetype": "text/x-python",
   "name": "python",
   "nbconvert_exporter": "python",
   "pygments_lexer": "ipython3",
   "version": "3.6.11"
  }
 },
 "nbformat": 4,
 "nbformat_minor": 4
}
